{
 "cells": [
  {
   "cell_type": "code",
   "execution_count": 2,
   "id": "d859088b-900c-442c-b051-6aa2bcb0f059",
   "metadata": {},
   "outputs": [
    {
     "name": "stdout",
     "output_type": "stream",
     "text": [
      "Collecting selenium\n",
      "  Downloading selenium-4.21.0-py3-none-any.whl.metadata (6.9 kB)\n",
      "Requirement already satisfied: urllib3<3,>=1.26 in c:\\users\\master\\appdata\\local\\programs\\python\\python39\\lib\\site-packages (from urllib3[socks]<3,>=1.26->selenium) (2.2.1)\n",
      "Collecting trio~=0.17 (from selenium)\n",
      "  Downloading trio-0.25.1-py3-none-any.whl.metadata (8.7 kB)\n",
      "Collecting trio-websocket~=0.9 (from selenium)\n",
      "  Downloading trio_websocket-0.11.1-py3-none-any.whl.metadata (4.7 kB)\n",
      "Requirement already satisfied: certifi>=2021.10.8 in c:\\users\\master\\appdata\\local\\programs\\python\\python39\\lib\\site-packages (from selenium) (2024.2.2)\n",
      "Requirement already satisfied: typing_extensions>=4.9.0 in c:\\users\\master\\appdata\\local\\programs\\python\\python39\\lib\\site-packages (from selenium) (4.11.0)\n",
      "Requirement already satisfied: attrs>=23.2.0 in c:\\users\\master\\appdata\\local\\programs\\python\\python39\\lib\\site-packages (from trio~=0.17->selenium) (23.2.0)\n",
      "Collecting sortedcontainers (from trio~=0.17->selenium)\n",
      "  Downloading sortedcontainers-2.4.0-py2.py3-none-any.whl.metadata (10 kB)\n",
      "Requirement already satisfied: idna in c:\\users\\master\\appdata\\local\\programs\\python\\python39\\lib\\site-packages (from trio~=0.17->selenium) (3.7)\n",
      "Collecting outcome (from trio~=0.17->selenium)\n",
      "  Downloading outcome-1.3.0.post0-py2.py3-none-any.whl.metadata (2.6 kB)\n",
      "Requirement already satisfied: sniffio>=1.3.0 in c:\\users\\master\\appdata\\local\\programs\\python\\python39\\lib\\site-packages (from trio~=0.17->selenium) (1.3.1)\n",
      "Requirement already satisfied: cffi>=1.14 in c:\\users\\master\\appdata\\local\\programs\\python\\python39\\lib\\site-packages (from trio~=0.17->selenium) (1.16.0)\n",
      "Requirement already satisfied: exceptiongroup in c:\\users\\master\\appdata\\local\\programs\\python\\python39\\lib\\site-packages (from trio~=0.17->selenium) (1.2.1)\n",
      "Collecting wsproto>=0.14 (from trio-websocket~=0.9->selenium)\n",
      "  Downloading wsproto-1.2.0-py3-none-any.whl.metadata (5.6 kB)\n",
      "Collecting pysocks!=1.5.7,<2.0,>=1.5.6 (from urllib3[socks]<3,>=1.26->selenium)\n",
      "  Downloading PySocks-1.7.1-py3-none-any.whl.metadata (13 kB)\n",
      "Requirement already satisfied: pycparser in c:\\users\\master\\appdata\\local\\programs\\python\\python39\\lib\\site-packages (from cffi>=1.14->trio~=0.17->selenium) (2.22)\n",
      "Requirement already satisfied: h11<1,>=0.9.0 in c:\\users\\master\\appdata\\local\\programs\\python\\python39\\lib\\site-packages (from wsproto>=0.14->trio-websocket~=0.9->selenium) (0.14.0)\n",
      "Downloading selenium-4.21.0-py3-none-any.whl (9.5 MB)\n",
      "   ---------------------------------------- 0.0/9.5 MB ? eta -:--:--\n",
      "   ------ --------------------------------- 1.5/9.5 MB 45.8 MB/s eta 0:00:01\n",
      "   ----------- ---------------------------- 2.6/9.5 MB 33.3 MB/s eta 0:00:01\n",
      "   ------------------- -------------------- 4.6/9.5 MB 36.4 MB/s eta 0:00:01\n",
      "   ------------------------------ --------- 7.3/9.5 MB 42.4 MB/s eta 0:00:01\n",
      "   ------------------------------------- -- 9.0/9.5 MB 40.9 MB/s eta 0:00:01\n",
      "   ---------------------------------------  9.5/9.5 MB 43.1 MB/s eta 0:00:01\n",
      "   ---------------------------------------- 9.5/9.5 MB 31.8 MB/s eta 0:00:00\n",
      "Downloading trio-0.25.1-py3-none-any.whl (467 kB)\n",
      "   ---------------------------------------- 0.0/467.7 kB ? eta -:--:--\n",
      "   --------------------------------------- 467.7/467.7 kB 30.5 MB/s eta 0:00:00\n",
      "Downloading trio_websocket-0.11.1-py3-none-any.whl (17 kB)\n",
      "Downloading PySocks-1.7.1-py3-none-any.whl (16 kB)\n",
      "Downloading wsproto-1.2.0-py3-none-any.whl (24 kB)\n",
      "Downloading outcome-1.3.0.post0-py2.py3-none-any.whl (10 kB)\n",
      "Downloading sortedcontainers-2.4.0-py2.py3-none-any.whl (29 kB)\n",
      "Installing collected packages: sortedcontainers, wsproto, pysocks, outcome, trio, trio-websocket, selenium\n",
      "Successfully installed outcome-1.3.0.post0 pysocks-1.7.1 selenium-4.21.0 sortedcontainers-2.4.0 trio-0.25.1 trio-websocket-0.11.1 wsproto-1.2.0\n",
      "Note: you may need to restart the kernel to use updated packages.\n"
     ]
    }
   ],
   "source": [
    "pip install selenium"
   ]
  },
  {
   "cell_type": "code",
   "execution_count": 5,
   "id": "da6a8ba8-2714-43a8-ba44-69f07686cfec",
   "metadata": {},
   "outputs": [
    {
     "name": "stdout",
     "output_type": "stream",
     "text": [
      "Collecting webdriver_manager\n",
      "  Downloading webdriver_manager-4.0.1-py2.py3-none-any.whl.metadata (12 kB)\n",
      "Requirement already satisfied: requests in c:\\users\\master\\appdata\\local\\programs\\python\\python39\\lib\\site-packages (from webdriver_manager) (2.31.0)\n",
      "Collecting python-dotenv (from webdriver_manager)\n",
      "  Downloading python_dotenv-1.0.1-py3-none-any.whl.metadata (23 kB)\n",
      "Requirement already satisfied: packaging in c:\\users\\master\\appdata\\local\\programs\\python\\python39\\lib\\site-packages (from webdriver_manager) (24.0)\n",
      "Requirement already satisfied: charset-normalizer<4,>=2 in c:\\users\\master\\appdata\\local\\programs\\python\\python39\\lib\\site-packages (from requests->webdriver_manager) (3.3.2)\n",
      "Requirement already satisfied: idna<4,>=2.5 in c:\\users\\master\\appdata\\local\\programs\\python\\python39\\lib\\site-packages (from requests->webdriver_manager) (3.7)\n",
      "Requirement already satisfied: urllib3<3,>=1.21.1 in c:\\users\\master\\appdata\\local\\programs\\python\\python39\\lib\\site-packages (from requests->webdriver_manager) (2.2.1)\n",
      "Requirement already satisfied: certifi>=2017.4.17 in c:\\users\\master\\appdata\\local\\programs\\python\\python39\\lib\\site-packages (from requests->webdriver_manager) (2024.2.2)\n",
      "Downloading webdriver_manager-4.0.1-py2.py3-none-any.whl (27 kB)\n",
      "Downloading python_dotenv-1.0.1-py3-none-any.whl (19 kB)\n",
      "Installing collected packages: python-dotenv, webdriver_manager\n",
      "Successfully installed python-dotenv-1.0.1 webdriver_manager-4.0.1\n",
      "Note: you may need to restart the kernel to use updated packages.\n"
     ]
    }
   ],
   "source": [
    "pip install webdriver_manager"
   ]
  },
  {
   "cell_type": "code",
   "execution_count": 12,
   "id": "12df2eeb",
   "metadata": {},
   "outputs": [],
   "source": [
    "from selenium import webdriver\n",
    "from selenium.webdriver import ActionChains\n",
    "from webdriver_manager.chrome import ChromeDriverManager\n",
    "from selenium.webdriver.common.actions.action_builder import ActionBuilder\n",
    "from selenium.webdriver import Keys, ActionChains\n",
    "from selenium.webdriver.chrome.service import Service\n",
    "from selenium.webdriver.common.by import By\n",
    "\n",
    "from selenium.webdriver.support.ui import WebDriverWait\n",
    "from selenium.webdriver.support import expected_conditions as EC\n",
    "\n",
    "import datetime\n",
    "import calendar"
   ]
  },
  {
   "cell_type": "code",
   "execution_count": 8,
   "id": "a83ca55a-0500-4334-aeb2-30bf3bc28947",
   "metadata": {},
   "outputs": [],
   "source": [
    "from selenium.webdriver.support.ui import WebDriverWait\n",
    "from selenium.webdriver.support import expected_conditions as EC"
   ]
  },
  {
   "cell_type": "code",
   "execution_count": 9,
   "id": "7ab51d1e",
   "metadata": {},
   "outputs": [],
   "source": [
    "from selenium import webdriver\n",
    "#웹 브라우져와 연결시키는 역할을 한다.\n",
    "from selenium.webdriver.chrome.service import Service\n",
    "# 크롬으로 사용시 인자로 들어가야 한다.\n",
    "from webdriver_manager.chrome import ChromeDriverManager\n",
    "# 현재 사용하는 크롬과 동일한 버전을 만들기 위해서 사용"
   ]
  },
  {
   "cell_type": "code",
   "execution_count": 10,
   "id": "58cdef1f",
   "metadata": {},
   "outputs": [],
   "source": [
    "driver = webdriver.Chrome(service=Service(ChromeDriverManager().install()))"
   ]
  },
  {
   "cell_type": "code",
   "execution_count": 29,
   "id": "35a63722-63c0-4637-971c-cbea7c713880",
   "metadata": {},
   "outputs": [],
   "source": [
    "def get_weekday_info(date):\n",
    "\n",
    "    \n",
    "    # 해당 날짜의 요일 (월요일: 0, 일요일: 6)\n",
    "    weekday = (date.weekday() + 2) % 9\n",
    "    \n",
    "    # 해당 달의 첫째 날의 요일과 날짜\n",
    "    first_day_of_month = date.replace(day=1)\n",
    "    first_day_weekday = first_day_of_month.weekday()\n",
    "    \n",
    "    # 해당 날짜가 몇 번째 주에 속하는지 계산\n",
    "    # (첫째 주가 1로 시작)\n",
    "    week_number = (date.day + first_day_weekday) // 7 + 1\n",
    "\n",
    "    \n",
    "    return week_number, weekday\n",
    "\n",
    "    \n",
    "\n"
   ]
  },
  {
   "cell_type": "code",
   "execution_count": 30,
   "id": "e625c3cd-454c-4320-ba8c-dc326c2e9d41",
   "metadata": {},
   "outputs": [
    {
     "name": "stdout",
     "output_type": "stream",
     "text": [
      "7\n",
      "4\n",
      "1 2\n",
      "7\n",
      "1\n",
      "3 8\n"
     ]
    }
   ],
   "source": [
    "\n",
    "start_day = datetime.datetime(2024, 4, 1)\n",
    "\n",
    "end_day = start_day + datetime.timedelta(days=13)\n",
    "\n",
    "year_dic = {2022 : 5, 2023 : 6, 2024 : 7}\n",
    "\n",
    "\n",
    "start_year_num = year_dic[start_day.year]\n",
    "print(start_year_num)\n",
    "\n",
    "start_month_num = start_day.month\n",
    "print(start_month_num)\n",
    "\n",
    "\n",
    "start_week_num, start_dayname_num = get_weekday_info(start_day)\n",
    "print(start_week_num, start_dayname_num)\n",
    "\n",
    "\n",
    "end_year_num = start_year_num\n",
    "print(end_year_num)\n",
    "\n",
    "if start_day.month == end_day.month:\n",
    "    end_month_num = 1\n",
    "else : \n",
    "    end_month_num = 2\n",
    "print(end_month_num)\n",
    "\n",
    "\n",
    "end_week_num, end_dayname_num = get_weekday_info(end_day)\n",
    "print(end_week_num, end_dayname_num)\n",
    "\n",
    "\n"
   ]
  },
  {
   "cell_type": "code",
   "execution_count": 35,
   "id": "700c6360-3449-48f8-9267-078053797ea2",
   "metadata": {},
   "outputs": [],
   "source": [
    "import time"
   ]
  },
  {
   "cell_type": "code",
   "execution_count": null,
   "id": "e10557cf-b42d-4af3-9e30-1b221494c3f1",
   "metadata": {},
   "outputs": [
    {
     "name": "stdout",
     "output_type": "stream",
     "text": [
      "2023-11-14 00:00:00\n",
      "3 3\n",
      "2023-11-28 00:00:00\n",
      "5 3\n",
      "2023-12-12 00:00:00\n",
      "3 3\n",
      "2023-12-26 00:00:00\n",
      "5 3\n"
     ]
    }
   ],
   "source": [
    "start_day = datetime.datetime(2023, 11, 1)\n",
    "end_day = start_day + datetime.timedelta(days=13)\n",
    "\n",
    "year_dic = {2022 : 5, 2023 : 6, 2024 : 7}\n",
    "\n",
    "while end_day.year == start_day.year:\n",
    "    \n",
    "    start_year_num = year_dic[start_day.year]\n",
    "    start_month_num = start_day.month\n",
    "    start_week_num, start_dayname_num = get_weekday_info(start_day)\n",
    "    \n",
    "    end_year_num = start_year_num\n",
    "    if start_day.month == end_day.month:\n",
    "        end_month_num = 1\n",
    "    else : \n",
    "        end_month_num = 2\n",
    "    end_week_num, end_dayname_num = get_weekday_info(end_day)\n",
    "    \n",
    "    driver.get(\"https://stcis.go.kr/pivotIndi/wpsPivotIndicator.do?siteGb=P&indiClss=IC01\")\n",
    "    \n",
    "    # 수단 통행량 선택\n",
    "    a = driver.find_element(By.XPATH, '//*[@id=\"ulListIndiSel\"]/li[1]')\n",
    "    a.click()\n",
    "    \n",
    "    # 시작일 버튼 선택\n",
    "    b = driver.find_element(By.XPATH, '//*[@id=\"searchFromDay\"]')\n",
    "    b.click()\n",
    "    \n",
    "    \n",
    "    # 년도 선택\n",
    "    c = driver.find_element(By.XPATH, f'//*[@id=\"ui-datepicker-div\"]/div/div/select[1]/option[{start_year_num}]')\n",
    "    c.click()\n",
    "    \n",
    "    # 월 선택\n",
    "    c = driver.find_element(By.XPATH, f'//*[@id=\"ui-datepicker-div\"]/div/div/select[2]/option[{start_month_num}]')\n",
    "    c.click()\n",
    "    #일 선택\n",
    "    c = driver.find_element(By.XPATH, f'//*[@id=\"ui-datepicker-div\"]/table/tbody/tr[{start_week_num}]/td[{start_dayname_num}]')\n",
    "    c.click()\n",
    "    \n",
    "    # 14일을 경과하였을때의 알람뜨는거 ok 버튼 누르기\n",
    "    try:\n",
    "        alert = driver.switch_to.alert\n",
    "        alert.accept()  # Alert 팝업의 OK 버튼을 클릭\n",
    "    except NoAlertPresentException:\n",
    "        print(\"No alert present.\")\n",
    "\n",
    "    time.sleep(1)  # 5초 대기\n",
    "    \n",
    "    # 종료일 버튼 선택\n",
    "    d = driver.find_element(By.XPATH, '//*[@id=\"searchToDay\"]')\n",
    "    d.click()\n",
    "    \n",
    "    # 년도 선택\n",
    "    c = driver.find_element(By.XPATH, f'//*[@id=\"ui-datepicker-div\"]/div/div/select[1]/option[1]')\n",
    "    c.click()\n",
    "    \n",
    "    # 월 선택\n",
    "    c = driver.find_element(By.XPATH, f'//*[@id=\"ui-datepicker-div\"]/div/div/select[2]/option[{end_month_num}]')\n",
    "    c.click()\n",
    "    print(end_day)\n",
    "    print(end_week_num, end_dayname_num)                    \n",
    "    #일 선택\n",
    "    c = driver.find_element(By.XPATH, f'//*[@id=\"ui-datepicker-div\"]/table/tbody/tr[{end_week_num}]/td[{end_dayname_num}]/a')\n",
    "    c.click()\n",
    "    \n",
    "    # 시도에서 서울특별시 선택\n",
    "    f =  driver.find_element(By.XPATH, '//*[@id=\"searchZoneSd\"]/option[2]')\n",
    "    f.click()\n",
    "    \n",
    "    # 전체 선택\n",
    "    g=  driver.find_element(By.XPATH, '//*[@id=\"divSgg\"]/ol/li[1]/label')\n",
    "    g.click()\n",
    "    \n",
    "    # 검색 결과 조회\n",
    "    h = driver.find_element(By.XPATH, '//*[@id=\"btnSearch\"]/button')\n",
    "    h.click()\n",
    "    \n",
    "    \n",
    "    # WebDriverWait 인스턴스 생성\n",
    "    wait = WebDriverWait(driver, 100)  # 최대 10초 동안 기다립니다.\n",
    "    # 요소가 클릭 가능할 때까지 기다리기\n",
    "    element = wait.until(EC.element_to_be_clickable((By.XPATH, '//*[@id=\"btnExport\"]')))\n",
    "    # 다운로드 받기\n",
    "    element.click()\n",
    "\n",
    "\n",
    "    # 다음 날짜\n",
    "    start_day = start_day + datetime.timedelta(days=14)\n",
    "    end_day = end_day + datetime.timedelta(days=14)\n",
    "\n",
    "    time.sleep(10)  # 5초 대기"
   ]
  },
  {
   "cell_type": "code",
   "execution_count": null,
   "id": "546123d9",
   "metadata": {},
   "outputs": [],
   "source": []
  }
 ],
 "metadata": {
  "kernelspec": {
   "display_name": "Python 3 (ipykernel)",
   "language": "python",
   "name": "python3"
  },
  "language_info": {
   "codemirror_mode": {
    "name": "ipython",
    "version": 3
   },
   "file_extension": ".py",
   "mimetype": "text/x-python",
   "name": "python",
   "nbconvert_exporter": "python",
   "pygments_lexer": "ipython3",
   "version": "3.9.7"
  }
 },
 "nbformat": 4,
 "nbformat_minor": 5
}
