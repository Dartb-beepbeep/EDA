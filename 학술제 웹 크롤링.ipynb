{
 "cells": [
  {
   "cell_type": "code",
   "execution_count": 2,
   "id": "54c2a356-a42c-446f-a856-9f289b4e0f59",
   "metadata": {},
   "outputs": [
    {
     "name": "stdout",
     "output_type": "stream",
     "text": [
      "Collecting seleniumNote: you may need to restart the kernel to use updated packages.\n",
      "\n",
      "  Downloading selenium-4.21.0-py3-none-any.whl.metadata (6.9 kB)\n",
      "Requirement already satisfied: urllib3<3,>=1.26 in c:\\users\\user\\anaconda3\\envs\\segyu\\lib\\site-packages (from urllib3[socks]<3,>=1.26->selenium) (1.26.18)\n",
      "Collecting trio~=0.17 (from selenium)\n",
      "  Downloading trio-0.25.1-py3-none-any.whl.metadata (8.7 kB)\n",
      "Collecting trio-websocket~=0.9 (from selenium)\n",
      "  Downloading trio_websocket-0.11.1-py3-none-any.whl.metadata (4.7 kB)\n",
      "Requirement already satisfied: certifi>=2021.10.8 in c:\\users\\user\\anaconda3\\envs\\segyu\\lib\\site-packages (from selenium) (2023.11.17)\n",
      "Collecting typing_extensions>=4.9.0 (from selenium)\n",
      "  Downloading typing_extensions-4.11.0-py3-none-any.whl.metadata (3.0 kB)\n",
      "Collecting attrs>=23.2.0 (from trio~=0.17->selenium)\n",
      "  Downloading attrs-23.2.0-py3-none-any.whl.metadata (9.5 kB)\n",
      "Collecting sortedcontainers (from trio~=0.17->selenium)\n",
      "  Downloading sortedcontainers-2.4.0-py2.py3-none-any.whl.metadata (10 kB)\n",
      "Requirement already satisfied: idna in c:\\users\\user\\anaconda3\\envs\\segyu\\lib\\site-packages (from trio~=0.17->selenium) (3.4)\n",
      "Collecting outcome (from trio~=0.17->selenium)\n",
      "  Downloading outcome-1.3.0.post0-py2.py3-none-any.whl.metadata (2.6 kB)\n",
      "Collecting sniffio>=1.3.0 (from trio~=0.17->selenium)\n",
      "  Downloading sniffio-1.3.1-py3-none-any.whl.metadata (3.9 kB)\n",
      "Requirement already satisfied: cffi>=1.14 in c:\\users\\user\\anaconda3\\envs\\segyu\\lib\\site-packages (from trio~=0.17->selenium) (1.16.0)\n",
      "Requirement already satisfied: exceptiongroup in c:\\users\\user\\anaconda3\\envs\\segyu\\lib\\site-packages (from trio~=0.17->selenium) (1.0.4)\n",
      "Collecting wsproto>=0.14 (from trio-websocket~=0.9->selenium)\n",
      "  Downloading wsproto-1.2.0-py3-none-any.whl.metadata (5.6 kB)\n",
      "Requirement already satisfied: PySocks!=1.5.7,<2.0,>=1.5.6 in c:\\users\\user\\anaconda3\\envs\\segyu\\lib\\site-packages (from urllib3[socks]<3,>=1.26->selenium) (1.7.1)\n",
      "Requirement already satisfied: pycparser in c:\\users\\user\\anaconda3\\envs\\segyu\\lib\\site-packages (from cffi>=1.14->trio~=0.17->selenium) (2.21)\n",
      "Collecting h11<1,>=0.9.0 (from wsproto>=0.14->trio-websocket~=0.9->selenium)\n",
      "  Downloading h11-0.14.0-py3-none-any.whl.metadata (8.2 kB)\n",
      "Downloading selenium-4.21.0-py3-none-any.whl (9.5 MB)\n",
      "   ---------------------------------------- 0.0/9.5 MB ? eta -:--:--\n",
      "   --- ------------------------------------ 0.9/9.5 MB 28.8 MB/s eta 0:00:01\n",
      "   --------- ------------------------------ 2.2/9.5 MB 28.4 MB/s eta 0:00:01\n",
      "   --------- ------------------------------ 2.3/9.5 MB 24.2 MB/s eta 0:00:01\n",
      "   --------- ------------------------------ 2.3/9.5 MB 13.6 MB/s eta 0:00:01\n",
      "   ---------- ----------------------------- 2.5/9.5 MB 12.2 MB/s eta 0:00:01\n",
      "   ----------- ---------------------------- 2.7/9.5 MB 10.0 MB/s eta 0:00:01\n",
      "   ------------ --------------------------- 2.9/9.5 MB 9.3 MB/s eta 0:00:01\n",
      "   --------------- ------------------------ 3.7/9.5 MB 10.2 MB/s eta 0:00:01\n",
      "   -------------------------- ------------- 6.2/9.5 MB 15.1 MB/s eta 0:00:01\n",
      "   ---------------------------------- ----- 8.2/9.5 MB 18.1 MB/s eta 0:00:01\n",
      "   ---------------------------------------  9.5/9.5 MB 19.5 MB/s eta 0:00:01\n",
      "   ---------------------------------------- 9.5/9.5 MB 17.8 MB/s eta 0:00:00\n",
      "Downloading trio-0.25.1-py3-none-any.whl (467 kB)\n",
      "   ---------------------------------------- 0.0/467.7 kB ? eta -:--:--\n",
      "   --------------------------------------- 467.7/467.7 kB 30.5 MB/s eta 0:00:00\n",
      "Downloading trio_websocket-0.11.1-py3-none-any.whl (17 kB)\n",
      "Downloading typing_extensions-4.11.0-py3-none-any.whl (34 kB)\n",
      "Downloading attrs-23.2.0-py3-none-any.whl (60 kB)\n",
      "   ---------------------------------------- 0.0/60.8 kB ? eta -:--:--\n",
      "   ---------------------------------------- 60.8/60.8 kB 3.2 MB/s eta 0:00:00\n",
      "Downloading sniffio-1.3.1-py3-none-any.whl (10 kB)\n",
      "Downloading wsproto-1.2.0-py3-none-any.whl (24 kB)\n",
      "Downloading outcome-1.3.0.post0-py2.py3-none-any.whl (10 kB)\n",
      "Downloading sortedcontainers-2.4.0-py2.py3-none-any.whl (29 kB)\n",
      "Using cached h11-0.14.0-py3-none-any.whl (58 kB)\n",
      "Installing collected packages: sortedcontainers, typing_extensions, sniffio, h11, attrs, wsproto, outcome, trio, trio-websocket, selenium\n",
      "  Attempting uninstall: typing_extensions\n",
      "    Found existing installation: typing_extensions 4.7.1\n",
      "    Uninstalling typing_extensions-4.7.1:\n",
      "      Successfully uninstalled typing_extensions-4.7.1\n",
      "  Attempting uninstall: sniffio\n",
      "    Found existing installation: sniffio 1.2.0\n",
      "    Uninstalling sniffio-1.2.0:\n",
      "      Successfully uninstalled sniffio-1.2.0\n",
      "  Attempting uninstall: attrs\n",
      "    Found existing installation: attrs 23.1.0\n",
      "    Uninstalling attrs-23.1.0:\n",
      "      Successfully uninstalled attrs-23.1.0\n",
      "Successfully installed attrs-23.2.0 h11-0.14.0 outcome-1.3.0.post0 selenium-4.21.0 sniffio-1.3.1 sortedcontainers-2.4.0 trio-0.25.1 trio-websocket-0.11.1 typing_extensions-4.11.0 wsproto-1.2.0\n"
     ]
    },
    {
     "name": "stderr",
     "output_type": "stream",
     "text": [
      "ERROR: pip's dependency resolver does not currently take into account all the packages that are installed. This behaviour is the source of the following dependency conflicts.\n",
      "tensorflow 2.10.0 requires libclang>=13.0.0, which is not installed.\n",
      "tensorflow 2.10.0 requires tensorflow-io-gcs-filesystem>=0.23.1, which is not installed.\n",
      "torch 2.1.2 requires fsspec, which is not installed.\n",
      "tensorflow 2.10.0 requires protobuf<3.20,>=3.9.2, but you have protobuf 3.20.3 which is incompatible.\n"
     ]
    }
   ],
   "source": [
    "pip install selenium"
   ]
  },
  {
   "cell_type": "code",
   "execution_count": 4,
   "id": "0dc2d8e1-4f18-4db7-bc62-3a9f70f92de1",
   "metadata": {},
   "outputs": [
    {
     "name": "stdout",
     "output_type": "stream",
     "text": [
      "Collecting webdriver_manager\n",
      "  Downloading webdriver_manager-4.0.1-py2.py3-none-any.whl.metadata (12 kB)\n",
      "Requirement already satisfied: requests in c:\\users\\user\\anaconda3\\envs\\segyu\\lib\\site-packages (from webdriver_manager) (2.31.0)\n",
      "Collecting python-dotenv (from webdriver_manager)\n",
      "  Downloading python_dotenv-1.0.1-py3-none-any.whl.metadata (23 kB)\n",
      "Requirement already satisfied: packaging in c:\\users\\user\\anaconda3\\envs\\segyu\\lib\\site-packages (from webdriver_manager) (23.1)\n",
      "Requirement already satisfied: charset-normalizer<4,>=2 in c:\\users\\user\\anaconda3\\envs\\segyu\\lib\\site-packages (from requests->webdriver_manager) (2.0.4)\n",
      "Requirement already satisfied: idna<4,>=2.5 in c:\\users\\user\\anaconda3\\envs\\segyu\\lib\\site-packages (from requests->webdriver_manager) (3.4)\n",
      "Requirement already satisfied: urllib3<3,>=1.21.1 in c:\\users\\user\\anaconda3\\envs\\segyu\\lib\\site-packages (from requests->webdriver_manager) (1.26.18)\n",
      "Requirement already satisfied: certifi>=2017.4.17 in c:\\users\\user\\anaconda3\\envs\\segyu\\lib\\site-packages (from requests->webdriver_manager) (2023.11.17)\n",
      "Downloading webdriver_manager-4.0.1-py2.py3-none-any.whl (27 kB)\n",
      "Downloading python_dotenv-1.0.1-py3-none-any.whl (19 kB)\n",
      "Installing collected packages: python-dotenv, webdriver_manager\n",
      "Successfully installed python-dotenv-1.0.1 webdriver_manager-4.0.1\n",
      "Note: you may need to restart the kernel to use updated packages.\n"
     ]
    }
   ],
   "source": [
    "pip install webdriver_manager"
   ]
  },
  {
   "cell_type": "code",
   "execution_count": 5,
   "id": "12df2eeb",
   "metadata": {},
   "outputs": [],
   "source": [
    "from selenium import webdriver\n",
    "from selenium.webdriver import ActionChains\n",
    "from webdriver_manager.chrome import ChromeDriverManager\n",
    "from selenium.webdriver.common.actions.action_builder import ActionBuilder\n",
    "from selenium.webdriver import Keys, ActionChains\n",
    "from selenium.webdriver.chrome.service import Service\n",
    "from selenium.webdriver.common.by import By\n",
    "\n",
    "from selenium.webdriver.support.ui import WebDriverWait\n",
    "from selenium.webdriver.support import expected_conditions as EC\n"
   ]
  },
  {
   "cell_type": "code",
   "execution_count": 28,
   "id": "a83ca55a-0500-4334-aeb2-30bf3bc28947",
   "metadata": {},
   "outputs": [],
   "source": [
    "from selenium.webdriver.support.ui import WebDriverWait\n",
    "from selenium.webdriver.support import expected_conditions as EC"
   ]
  },
  {
   "cell_type": "code",
   "execution_count": 6,
   "id": "7ab51d1e",
   "metadata": {},
   "outputs": [],
   "source": [
    "from selenium import webdriver\n",
    "#웹 브라우져와 연결시키는 역할을 한다.\n",
    "from selenium.webdriver.chrome.service import Service\n",
    "# 크롬으로 사용시 인자로 들어가야 한다.\n",
    "from webdriver_manager.chrome import ChromeDriverManager\n",
    "# 현재 사용하는 크롬과 동일한 버전을 만들기 위해서 사용"
   ]
  },
  {
   "cell_type": "code",
   "execution_count": 7,
   "id": "58cdef1f",
   "metadata": {},
   "outputs": [],
   "source": [
    "driver = webdriver.Chrome(service=Service(ChromeDriverManager().install()))"
   ]
  },
  {
   "cell_type": "code",
   "execution_count": 30,
   "id": "91b3ccaf-31ee-4616-8841-df3198e3768d",
   "metadata": {},
   "outputs": [],
   "source": [
    "driver.get(\"https://stcis.go.kr/pivotIndi/wpsPivotIndicator.do?siteGb=P&indiClss=IC01\")\n",
    "\n",
    "\n",
    "a = driver.find_element(By.XPATH, '//*[@id=\"ulListIndiSel\"]/li[2]')\n",
    "a.click()\n",
    "\n",
    "\n",
    "b = driver.find_element(By.XPATH, '//*[@id=\"searchFromDay\"]')\n",
    "b.click()\n",
    "\n",
    "c = driver.find_element(By.XPATH, '//*[@id=\"ui-datepicker-div\"]/table/tbody/tr[1]/td[4]')\n",
    "c.click()\n",
    "\n",
    "\n",
    "d = driver.find_element(By.XPATH, '//*[@id=\"searchToDay\"]')\n",
    "d.click()\n",
    "\n",
    "                                    \n",
    "e = driver.find_element(By.XPATH, '//*[@id=\"ui-datepicker-div\"]/table/tbody/tr[2]/td[1]')\n",
    "e.click()\n",
    "\n",
    "\n",
    "f =  driver.find_element(By.XPATH, '//*[@id=\"searchZoneSd\"]/option[2]')\n",
    "f.click()\n",
    "\n",
    "\n",
    "g=  driver.find_element(By.XPATH, '//*[@id=\"divSgg\"]/ol/li[1]/label')\n",
    "g.click()\n",
    "\n",
    "h = driver.find_element(By.XPATH, '//*[@id=\"btnSearch\"]/button')\n",
    "h.click()\n",
    "\n",
    "//*[@id=\"ui-datepicker-div\"]/div/div/select[2]\n",
    "\n",
    "\n",
    "# WebDriverWait 인스턴스 생성\n",
    "wait = WebDriverWait(driver, 100)  # 최대 10초 동안 기다립니다.\n",
    "# 요소가 클릭 가능할 때까지 기다리기\n",
    "element = wait.until(EC.element_to_be_clickable((By.XPATH, '//*[@id=\"btnExport\"]')))\n",
    "element.click()"
   ]
  },
  {
   "cell_type": "code",
   "execution_count": null,
   "id": "4fd4c84d",
   "metadata": {},
   "outputs": [],
   "source": [
    "month = driver.find_element(By.XPATH, '//*[@id=\"divRdoDate\"]/li[3]')\n",
    "month.click()"
   ]
  },
  {
   "cell_type": "code",
   "execution_count": 50,
   "id": "e10557cf-b42d-4af3-9e30-1b221494c3f1",
   "metadata": {},
   "outputs": [
    {
     "ename": "StaleElementReferenceException",
     "evalue": "Message: stale element reference: stale element not found\n  (Session info: chrome=124.0.6367.203); For documentation on this error, please visit: https://www.selenium.dev/documentation/webdriver/troubleshooting/errors#stale-element-reference-exception\nStacktrace:\n\tGetHandleVerifier [0x00BFC113+48259]\n\t(No symbol) [0x00B8CA41]\n\t(No symbol) [0x00A80A17]\n\t(No symbol) [0x00A8E6CC]\n\t(No symbol) [0x00A8EE8E]\n\t(No symbol) [0x00A864BB]\n\t(No symbol) [0x00A84834]\n\t(No symbol) [0x00A87652]\n\t(No symbol) [0x00A876D0]\n\t(No symbol) [0x00AC253E]\n\t(No symbol) [0x00AB7282]\n\t(No symbol) [0x00AE0D9C]\n\t(No symbol) [0x00AB6E25]\n\t(No symbol) [0x00AE1034]\n\t(No symbol) [0x00AF9B9C]\n\t(No symbol) [0x00AE0B36]\n\t(No symbol) [0x00AB570D]\n\t(No symbol) [0x00AB62CD]\n\tGetHandleVerifier [0x00EB65A3+2908435]\n\tGetHandleVerifier [0x00EF3BBB+3159851]\n\tGetHandleVerifier [0x00C950CB+674875]\n\tGetHandleVerifier [0x00C9B28C+699900]\n\t(No symbol) [0x00B96244]\n\t(No symbol) [0x00B92298]\n\t(No symbol) [0x00B9242C]\n\t(No symbol) [0x00B84BB0]\n\tBaseThreadInitThunk [0x75B1FCC9+25]\n\tRtlGetAppContainerNamedObjectPath [0x77B07C5E+286]\n\tRtlGetAppContainerNamedObjectPath [0x77B07C2E+238]\n",
     "output_type": "error",
     "traceback": [
      "\u001b[1;31m---------------------------------------------------------------------------\u001b[0m",
      "\u001b[1;31mStaleElementReferenceException\u001b[0m            Traceback (most recent call last)",
      "Cell \u001b[1;32mIn[50], line 63\u001b[0m\n\u001b[0;32m     60\u001b[0m wait \u001b[38;5;241m=\u001b[39m WebDriverWait(driver, \u001b[38;5;241m100\u001b[39m)  \u001b[38;5;66;03m# 최대 10초 동안 기다립니다.\u001b[39;00m\n\u001b[0;32m     61\u001b[0m \u001b[38;5;66;03m# 요소가 클릭 가능할 때까지 기다리기\u001b[39;00m\n\u001b[0;32m     62\u001b[0m \u001b[38;5;66;03m#element = wait.until(EC.element_to_be_clickable((By.XPATH, '//*[@id=\"btnExport\"]')))\u001b[39;00m\n\u001b[1;32m---> 63\u001b[0m \u001b[43melement\u001b[49m\u001b[38;5;241;43m.\u001b[39;49m\u001b[43mclick\u001b[49m\u001b[43m(\u001b[49m\u001b[43m)\u001b[49m\n",
      "File \u001b[1;32m~\\anaconda3\\envs\\segyu\\lib\\site-packages\\selenium\\webdriver\\remote\\webelement.py:94\u001b[0m, in \u001b[0;36mWebElement.click\u001b[1;34m(self)\u001b[0m\n\u001b[0;32m     92\u001b[0m \u001b[38;5;28;01mdef\u001b[39;00m \u001b[38;5;21mclick\u001b[39m(\u001b[38;5;28mself\u001b[39m) \u001b[38;5;241m-\u001b[39m\u001b[38;5;241m>\u001b[39m \u001b[38;5;28;01mNone\u001b[39;00m:\n\u001b[0;32m     93\u001b[0m \u001b[38;5;250m    \u001b[39m\u001b[38;5;124;03m\"\"\"Clicks the element.\"\"\"\u001b[39;00m\n\u001b[1;32m---> 94\u001b[0m     \u001b[38;5;28;43mself\u001b[39;49m\u001b[38;5;241;43m.\u001b[39;49m\u001b[43m_execute\u001b[49m\u001b[43m(\u001b[49m\u001b[43mCommand\u001b[49m\u001b[38;5;241;43m.\u001b[39;49m\u001b[43mCLICK_ELEMENT\u001b[49m\u001b[43m)\u001b[49m\n",
      "File \u001b[1;32m~\\anaconda3\\envs\\segyu\\lib\\site-packages\\selenium\\webdriver\\remote\\webelement.py:395\u001b[0m, in \u001b[0;36mWebElement._execute\u001b[1;34m(self, command, params)\u001b[0m\n\u001b[0;32m    393\u001b[0m     params \u001b[38;5;241m=\u001b[39m {}\n\u001b[0;32m    394\u001b[0m params[\u001b[38;5;124m\"\u001b[39m\u001b[38;5;124mid\u001b[39m\u001b[38;5;124m\"\u001b[39m] \u001b[38;5;241m=\u001b[39m \u001b[38;5;28mself\u001b[39m\u001b[38;5;241m.\u001b[39m_id\n\u001b[1;32m--> 395\u001b[0m \u001b[38;5;28;01mreturn\u001b[39;00m \u001b[38;5;28;43mself\u001b[39;49m\u001b[38;5;241;43m.\u001b[39;49m\u001b[43m_parent\u001b[49m\u001b[38;5;241;43m.\u001b[39;49m\u001b[43mexecute\u001b[49m\u001b[43m(\u001b[49m\u001b[43mcommand\u001b[49m\u001b[43m,\u001b[49m\u001b[43m \u001b[49m\u001b[43mparams\u001b[49m\u001b[43m)\u001b[49m\n",
      "File \u001b[1;32m~\\anaconda3\\envs\\segyu\\lib\\site-packages\\selenium\\webdriver\\remote\\webdriver.py:347\u001b[0m, in \u001b[0;36mWebDriver.execute\u001b[1;34m(self, driver_command, params)\u001b[0m\n\u001b[0;32m    345\u001b[0m response \u001b[38;5;241m=\u001b[39m \u001b[38;5;28mself\u001b[39m\u001b[38;5;241m.\u001b[39mcommand_executor\u001b[38;5;241m.\u001b[39mexecute(driver_command, params)\n\u001b[0;32m    346\u001b[0m \u001b[38;5;28;01mif\u001b[39;00m response:\n\u001b[1;32m--> 347\u001b[0m     \u001b[38;5;28;43mself\u001b[39;49m\u001b[38;5;241;43m.\u001b[39;49m\u001b[43merror_handler\u001b[49m\u001b[38;5;241;43m.\u001b[39;49m\u001b[43mcheck_response\u001b[49m\u001b[43m(\u001b[49m\u001b[43mresponse\u001b[49m\u001b[43m)\u001b[49m\n\u001b[0;32m    348\u001b[0m     response[\u001b[38;5;124m\"\u001b[39m\u001b[38;5;124mvalue\u001b[39m\u001b[38;5;124m\"\u001b[39m] \u001b[38;5;241m=\u001b[39m \u001b[38;5;28mself\u001b[39m\u001b[38;5;241m.\u001b[39m_unwrap_value(response\u001b[38;5;241m.\u001b[39mget(\u001b[38;5;124m\"\u001b[39m\u001b[38;5;124mvalue\u001b[39m\u001b[38;5;124m\"\u001b[39m, \u001b[38;5;28;01mNone\u001b[39;00m))\n\u001b[0;32m    349\u001b[0m     \u001b[38;5;28;01mreturn\u001b[39;00m response\n",
      "File \u001b[1;32m~\\anaconda3\\envs\\segyu\\lib\\site-packages\\selenium\\webdriver\\remote\\errorhandler.py:229\u001b[0m, in \u001b[0;36mErrorHandler.check_response\u001b[1;34m(self, response)\u001b[0m\n\u001b[0;32m    227\u001b[0m         alert_text \u001b[38;5;241m=\u001b[39m value[\u001b[38;5;124m\"\u001b[39m\u001b[38;5;124malert\u001b[39m\u001b[38;5;124m\"\u001b[39m]\u001b[38;5;241m.\u001b[39mget(\u001b[38;5;124m\"\u001b[39m\u001b[38;5;124mtext\u001b[39m\u001b[38;5;124m\"\u001b[39m)\n\u001b[0;32m    228\u001b[0m     \u001b[38;5;28;01mraise\u001b[39;00m exception_class(message, screen, stacktrace, alert_text)  \u001b[38;5;66;03m# type: ignore[call-arg]  # mypy is not smart enough here\u001b[39;00m\n\u001b[1;32m--> 229\u001b[0m \u001b[38;5;28;01mraise\u001b[39;00m exception_class(message, screen, stacktrace)\n",
      "\u001b[1;31mStaleElementReferenceException\u001b[0m: Message: stale element reference: stale element not found\n  (Session info: chrome=124.0.6367.203); For documentation on this error, please visit: https://www.selenium.dev/documentation/webdriver/troubleshooting/errors#stale-element-reference-exception\nStacktrace:\n\tGetHandleVerifier [0x00BFC113+48259]\n\t(No symbol) [0x00B8CA41]\n\t(No symbol) [0x00A80A17]\n\t(No symbol) [0x00A8E6CC]\n\t(No symbol) [0x00A8EE8E]\n\t(No symbol) [0x00A864BB]\n\t(No symbol) [0x00A84834]\n\t(No symbol) [0x00A87652]\n\t(No symbol) [0x00A876D0]\n\t(No symbol) [0x00AC253E]\n\t(No symbol) [0x00AB7282]\n\t(No symbol) [0x00AE0D9C]\n\t(No symbol) [0x00AB6E25]\n\t(No symbol) [0x00AE1034]\n\t(No symbol) [0x00AF9B9C]\n\t(No symbol) [0x00AE0B36]\n\t(No symbol) [0x00AB570D]\n\t(No symbol) [0x00AB62CD]\n\tGetHandleVerifier [0x00EB65A3+2908435]\n\tGetHandleVerifier [0x00EF3BBB+3159851]\n\tGetHandleVerifier [0x00C950CB+674875]\n\tGetHandleVerifier [0x00C9B28C+699900]\n\t(No symbol) [0x00B96244]\n\t(No symbol) [0x00B92298]\n\t(No symbol) [0x00B9242C]\n\t(No symbol) [0x00B84BB0]\n\tBaseThreadInitThunk [0x75B1FCC9+25]\n\tRtlGetAppContainerNamedObjectPath [0x77B07C5E+286]\n\tRtlGetAppContainerNamedObjectPath [0x77B07C2E+238]\n"
     ]
    }
   ],
   "source": [
    "driver.get(\"https://stcis.go.kr/pivotIndi/wpsPivotIndicator.do?siteGb=P&indiClss=IC01\")\n",
    "\n",
    "# 목적 통행량 선택\n",
    "a = driver.find_element(By.XPATH, '//*[@id=\"ulListIndiSel\"]/li[2]')\n",
    "a.click()\n",
    "\n",
    "# 시작일 버튼 선택\n",
    "b = driver.find_element(By.XPATH, '//*[@id=\"searchFromDay\"]')\n",
    "b.click()\n",
    "\n",
    "\n",
    "# 년도 선택\n",
    "c = driver.find_element(By.XPATH, '//*[@id=\"ui-datepicker-div\"]/div/div/select[1]/option[7]')\n",
    "c.click()\n",
    "\n",
    "# 월 선택\n",
    "c = driver.find_element(By.XPATH, '//*[@id=\"ui-datepicker-div\"]/div/div/select[2]/option[4]')\n",
    "c.click()\n",
    "#일 선택\n",
    "c = driver.find_element(By.XPATH, '//*[@id=\"ui-datepicker-div\"]/table/tbody/tr[1]/td[2]')\n",
    "c.click()\n",
    "\n",
    "# 14일을 경과하였을때의 알람\n",
    "try:\n",
    "    alert = driver.switch_to.alert\n",
    "    alert.accept()  # Alert 팝업의 OK 버튼을 클릭\n",
    "except NoAlertPresentException:\n",
    "    print(\"No alert present.\")\n",
    "\n",
    "\n",
    "# 종료일 버튼 선택\n",
    "d = driver.find_element(By.XPATH, '//*[@id=\"searchToDay\"]')\n",
    "d.click()\n",
    "\n",
    "# 년도 선택\n",
    "c = driver.find_element(By.XPATH, '//*[@id=\"ui-datepicker-div\"]/div/div/select[1]/option[1]')\n",
    "c.click()\n",
    "\n",
    "# 월 선택\n",
    "c = driver.find_element(By.XPATH, '//*[@id=\"ui-datepicker-div\"]/div/div/select[2]/option[1]')\n",
    "c.click()\n",
    "                          \n",
    "#일 선택\n",
    "c = driver.find_element(By.XPATH, '//*[@id=\"ui-datepicker-div\"]/table/tbody/tr[3]/td[1]/a')\n",
    "c.click()\n",
    "\n",
    "\n",
    "f =  driver.find_element(By.XPATH, '//*[@id=\"searchZoneSd\"]/option[2]')\n",
    "f.click()\n",
    "\n",
    "\n",
    "g=  driver.find_element(By.XPATH, '//*[@id=\"divSgg\"]/ol/li[1]/label')\n",
    "g.click()\n",
    "\n",
    "h = driver.find_element(By.XPATH, '//*[@id=\"btnSearch\"]/button')\n",
    "h.click()\n",
    "\n",
    "\n",
    "# WebDriverWait 인스턴스 생성\n",
    "wait = WebDriverWait(driver, 100)  # 최대 10초 동안 기다립니다.\n",
    "# 요소가 클릭 가능할 때까지 기다리기\n",
    "#element = wait.until(EC.element_to_be_clickable((By.XPATH, '//*[@id=\"btnExport\"]')))\n",
    "element.click()\n"
   ]
  },
  {
   "cell_type": "code",
   "execution_count": null,
   "id": "120a65a2",
   "metadata": {},
   "outputs": [],
   "source": [
    "//*[@id=\"ui-datepicker-div\"]/div/div/select[1]/option[7]"
   ]
  },
  {
   "cell_type": "code",
   "execution_count": null,
   "id": "a2557e04",
   "metadata": {},
   "outputs": [],
   "source": [
    "//*[@id=\"ui-datepicker-div\"]/div/div/select[1]/option[7]"
   ]
  },
  {
   "cell_type": "code",
   "execution_count": null,
   "id": "a194a557",
   "metadata": {},
   "outputs": [],
   "source": [
    "//*[@id=\"date3\"]/li[1]/img\n",
    "\n",
    "//*[@id=\"searchFromDay\"]"
   ]
  },
  {
   "cell_type": "code",
   "execution_count": null,
   "id": "148a5f2d",
   "metadata": {},
   "outputs": [],
   "source": []
  },
  {
   "cell_type": "code",
   "execution_count": null,
   "id": "def8082e",
   "metadata": {},
   "outputs": [],
   "source": []
  },
  {
   "cell_type": "code",
   "execution_count": null,
   "id": "f55875a4",
   "metadata": {},
   "outputs": [],
   "source": []
  },
  {
   "cell_type": "code",
   "execution_count": null,
   "id": "c872bde1",
   "metadata": {},
   "outputs": [],
   "source": [
    "month = driver.find_element(By.XPATH, '//*[@id=\"ui-datepicker-div\"]/div/div/select[2]/option[5]')"
   ]
  },
  {
   "cell_type": "code",
   "execution_count": null,
   "id": "8700fa20",
   "metadata": {},
   "outputs": [],
   "source": []
  },
  {
   "cell_type": "code",
   "execution_count": null,
   "id": "546123d9",
   "metadata": {},
   "outputs": [],
   "source": []
  }
 ],
 "metadata": {
  "kernelspec": {
   "display_name": "Python 3 (ipykernel)",
   "language": "python",
   "name": "python3"
  },
  "language_info": {
   "codemirror_mode": {
    "name": "ipython",
    "version": 3
   },
   "file_extension": ".py",
   "mimetype": "text/x-python",
   "name": "python",
   "nbconvert_exporter": "python",
   "pygments_lexer": "ipython3",
   "version": "3.9.18"
  }
 },
 "nbformat": 4,
 "nbformat_minor": 5
}
